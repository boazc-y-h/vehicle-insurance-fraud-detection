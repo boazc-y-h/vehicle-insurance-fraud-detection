{
 "cells": [
  {
   "cell_type": "code",
   "execution_count": 1,
   "metadata": {},
   "outputs": [],
   "source": [
    "import pickle\n",
    "import pandas as pd"
   ]
  },
  {
   "cell_type": "code",
   "execution_count": 15,
   "metadata": {},
   "outputs": [],
   "source": [
    "#Load the trained model. (Pickle file)\n",
    "model = pickle.load(open('../models/xgboost_none.pkl', 'rb'))\n",
    "variable_names = model.feature_names_in_.tolist()\n",
    "model = model._final_estimator\n",
    "variable_importance_values = model.feature_importances_.tolist()\n"
   ]
  },
  {
   "cell_type": "code",
   "execution_count": 23,
   "metadata": {},
   "outputs": [
    {
     "data": {
      "application/vnd.microsoft.datawrangler.viewer.v0+json": {
       "columns": [
        {
         "name": "index",
         "rawType": "int64",
         "type": "integer"
        },
        {
         "name": "variable",
         "rawType": "object",
         "type": "string"
        },
        {
         "name": "importance",
         "rawType": "float64",
         "type": "float"
        }
       ],
       "conversionMethod": "pd.DataFrame",
       "ref": "4d676818-c198-418f-b6e3-38a79a107459",
       "rows": [
        [
         "120",
         "BasePolicy_Liability",
         "0.10660798847675323"
        ],
        [
         "67",
         "PolicyType_Sedan - Liability",
         "0.104808509349823"
        ],
        [
         "65",
         "Fault_Third Party",
         "0.09180983155965805"
        ],
        [
         "111",
         "AddressChange-Claim_2 to 3 years",
         "0.03377552703022957"
        ],
        [
         "11",
         "Month_Jan",
         "0.027064654976129532"
        ],
        [
         "113",
         "AddressChange-Claim_no change",
         "0.02592017874121666"
        ],
        [
         "5",
         "Deductible",
         "0.024610234424471855"
        ],
        [
         "66",
         "PolicyType_Sedan - Collision",
         "0.01682184264063835"
        ],
        [
         "53",
         "MonthClaimed_Jan",
         "0.01620439812541008"
        ],
        [
         "51",
         "MonthClaimed_Dec",
         "0.013644102029502392"
        ]
       ],
       "shape": {
        "columns": 2,
        "rows": 10
       }
      },
      "text/html": [
       "<div>\n",
       "<style scoped>\n",
       "    .dataframe tbody tr th:only-of-type {\n",
       "        vertical-align: middle;\n",
       "    }\n",
       "\n",
       "    .dataframe tbody tr th {\n",
       "        vertical-align: top;\n",
       "    }\n",
       "\n",
       "    .dataframe thead th {\n",
       "        text-align: right;\n",
       "    }\n",
       "</style>\n",
       "<table border=\"1\" class=\"dataframe\">\n",
       "  <thead>\n",
       "    <tr style=\"text-align: right;\">\n",
       "      <th></th>\n",
       "      <th>variable</th>\n",
       "      <th>importance</th>\n",
       "    </tr>\n",
       "  </thead>\n",
       "  <tbody>\n",
       "    <tr>\n",
       "      <th>120</th>\n",
       "      <td>BasePolicy_Liability</td>\n",
       "      <td>0.106608</td>\n",
       "    </tr>\n",
       "    <tr>\n",
       "      <th>67</th>\n",
       "      <td>PolicyType_Sedan - Liability</td>\n",
       "      <td>0.104809</td>\n",
       "    </tr>\n",
       "    <tr>\n",
       "      <th>65</th>\n",
       "      <td>Fault_Third Party</td>\n",
       "      <td>0.091810</td>\n",
       "    </tr>\n",
       "    <tr>\n",
       "      <th>111</th>\n",
       "      <td>AddressChange-Claim_2 to 3 years</td>\n",
       "      <td>0.033776</td>\n",
       "    </tr>\n",
       "    <tr>\n",
       "      <th>11</th>\n",
       "      <td>Month_Jan</td>\n",
       "      <td>0.027065</td>\n",
       "    </tr>\n",
       "    <tr>\n",
       "      <th>113</th>\n",
       "      <td>AddressChange-Claim_no change</td>\n",
       "      <td>0.025920</td>\n",
       "    </tr>\n",
       "    <tr>\n",
       "      <th>5</th>\n",
       "      <td>Deductible</td>\n",
       "      <td>0.024610</td>\n",
       "    </tr>\n",
       "    <tr>\n",
       "      <th>66</th>\n",
       "      <td>PolicyType_Sedan - Collision</td>\n",
       "      <td>0.016822</td>\n",
       "    </tr>\n",
       "    <tr>\n",
       "      <th>53</th>\n",
       "      <td>MonthClaimed_Jan</td>\n",
       "      <td>0.016204</td>\n",
       "    </tr>\n",
       "    <tr>\n",
       "      <th>51</th>\n",
       "      <td>MonthClaimed_Dec</td>\n",
       "      <td>0.013644</td>\n",
       "    </tr>\n",
       "  </tbody>\n",
       "</table>\n",
       "</div>"
      ],
      "text/plain": [
       "                             variable  importance\n",
       "120              BasePolicy_Liability    0.106608\n",
       "67       PolicyType_Sedan - Liability    0.104809\n",
       "65                  Fault_Third Party    0.091810\n",
       "111  AddressChange-Claim_2 to 3 years    0.033776\n",
       "11                          Month_Jan    0.027065\n",
       "113     AddressChange-Claim_no change    0.025920\n",
       "5                          Deductible    0.024610\n",
       "66       PolicyType_Sedan - Collision    0.016822\n",
       "53                   MonthClaimed_Jan    0.016204\n",
       "51                   MonthClaimed_Dec    0.013644"
      ]
     },
     "execution_count": 23,
     "metadata": {},
     "output_type": "execute_result"
    }
   ],
   "source": [
    "variable_importance = {'variable': variable_names,\n",
    "                       'importance': variable_importance_values}\n",
    "\n",
    "df = pd.DataFrame(variable_importance) \n",
    "\n",
    "df['abs_importance'] = df['importance'].abs()\n",
    "\n",
    "df.sort_values('abs_importance', ascending=False)[['variable','importance']].head(10)"
   ]
  }
 ],
 "metadata": {
  "kernelspec": {
   "display_name": ".venv",
   "language": "python",
   "name": "python3"
  },
  "language_info": {
   "codemirror_mode": {
    "name": "ipython",
    "version": 3
   },
   "file_extension": ".py",
   "mimetype": "text/x-python",
   "name": "python",
   "nbconvert_exporter": "python",
   "pygments_lexer": "ipython3",
   "version": "3.11.9"
  }
 },
 "nbformat": 4,
 "nbformat_minor": 2
}
